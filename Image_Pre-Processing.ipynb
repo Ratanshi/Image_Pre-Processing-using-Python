{
 "cells": [
  {
   "cell_type": "code",
   "execution_count": 4,
   "id": "ed2eda74",
   "metadata": {},
   "outputs": [
    {
     "name": "stdout",
     "output_type": "stream",
     "text": [
      "Package Imported\n"
     ]
    }
   ],
   "source": [
    "#Import OpenCV\n",
    "import cv2\n",
    "print(\"Package Imported\")"
   ]
  },
  {
   "cell_type": "code",
   "execution_count": 4,
   "id": "3da7f552",
   "metadata": {
    "scrolled": true
   },
   "outputs": [
    {
     "data": {
      "text/plain": [
       "-1"
      ]
     },
     "execution_count": 4,
     "metadata": {},
     "output_type": "execute_result"
    }
   ],
   "source": [
    "#Read Images , Using a function imread and show using imshow\n",
    "import cv2\n",
    "img = cv2.imread(\"Image Path\")\n",
    "cv2.imshow(\"Output\",img)\n",
    "cv2.waitKey(0)"
   ]
  },
  {
   "cell_type": "code",
   "execution_count": null,
   "id": "38cb3462",
   "metadata": {
    "scrolled": true
   },
   "outputs": [],
   "source": [
    "#Read Videos\n",
    "import cv2\n",
    "cap = cv2.VideoCapture(\"Video Path\")\n",
    "#Video is a sequence of images , Hence a while loop is used to display the images.\n",
    "\n",
    "while True:\n",
    "#success here has a boolean value true or false   \n",
    "     success, img = cap.read()\n",
    "     cv2.imshow(\"Video\" ,img)\n",
    "#And operation is performed between waitKey and 0xFF and the value is checked for ord('q')\n",
    "     if cv2.waitKey(100) & 0xFF == ord('q'): #0-255\n",
    "  #        10010011     0b11111111          8 bits      \n",
    "           break\n"
   ]
  },
  {
   "cell_type": "code",
   "execution_count": null,
   "id": "55a86d41",
   "metadata": {},
   "outputs": [],
   "source": [
    "#Read Videos\n",
    "import cv2\n",
    "cap = cv2.VideoCapture(0) #Webcam input windows(0) Linux(-1)\n",
    "cap.set(3,640)\n",
    "cap.set(10,100) #cap.set(id,value)  id 10 is for brightness\n",
    "#Video is a sequence of images , Hence a while loop is used to display the images.\n",
    "\n",
    "while True:\n",
    "#success here has a boolean value true or false   \n",
    "     success, img = cap.read()\n",
    "     cv2.imshow(\"Video\" ,img)\n",
    "#And operation is performed between waitKey and 0xFF and the value is checked for ord('q')\n",
    "     if cv2.waitKey(100) & 0xFF == ord('q'): #0-255\n",
    "  #        10010011     0b11111111          8 bits      \n",
    "           break\n"
   ]
  },
  {
   "cell_type": "code",
   "execution_count": 2,
   "id": "1c2a001c",
   "metadata": {},
   "outputs": [
    {
     "data": {
      "text/plain": [
       "-1"
      ]
     },
     "execution_count": 2,
     "metadata": {},
     "output_type": "execute_result"
    }
   ],
   "source": [
    "#convert to gray\n",
    "import cv2\n",
    "\n",
    "img=cv2.imread(\"C:/Users/HP/Desktop/a.webp\")\n",
    "imgGray = cv2.cvtColor(img , cv2.COLOR_BGR2GRAY)\n",
    "\n",
    "cv2.imshow(\"Gray Image\", imgGray)\n",
    "cv2.waitKey(0)"
   ]
  },
  {
   "cell_type": "code",
   "execution_count": 4,
   "id": "f2b2f627",
   "metadata": {},
   "outputs": [
    {
     "data": {
      "text/plain": [
       "-1"
      ]
     },
     "execution_count": 4,
     "metadata": {},
     "output_type": "execute_result"
    }
   ],
   "source": [
    "#convert to gray and blur\n",
    "import cv2\n",
    "\n",
    "img=cv2.imread(\"C:/Users/HP/Desktop/a.webp\")\n",
    "imgGray = cv2.cvtColor(img , cv2.COLOR_BGR2GRAY)\n",
    "imgBlur = cv2.GaussianBlur(imgGray,(7,7),0) #(odd,odd)\n",
    "\n",
    "cv2.imshow(\"Gray Image\", imgGray)\n",
    "cv2.imshow(\"Blur Image\", imgBlur)\n",
    "cv2.waitKey(0)"
   ]
  },
  {
   "cell_type": "code",
   "execution_count": 10,
   "id": "64090078",
   "metadata": {},
   "outputs": [
    {
     "data": {
      "text/plain": [
       "-1"
      ]
     },
     "execution_count": 10,
     "metadata": {},
     "output_type": "execute_result"
    }
   ],
   "source": [
    "#Edge Detection using Canny\n",
    "import cv2\n",
    "\n",
    "img=cv2.imread(\"C:/Users/HP/Desktop/a.webp\")\n",
    "imgGray = cv2.cvtColor(img , cv2.COLOR_BGR2GRAY)\n",
    "imgBlur = cv2.GaussianBlur(imgGray,(7,7),0) #(odd,odd)\n",
    "imgCanny = cv2.Canny(img,100,100)\n",
    "\n",
    "cv2.imshow(\"Gray Image\", imgGray)\n",
    "cv2.imshow(\"Blur Image\", imgBlur)\n",
    "cv2.imshow(\"Canny Image\", imgCanny)\n",
    "\n",
    "cv2.waitKey(0)\n"
   ]
  },
  {
   "cell_type": "code",
   "execution_count": 18,
   "id": "0bfe332e",
   "metadata": {},
   "outputs": [
    {
     "data": {
      "text/plain": [
       "-1"
      ]
     },
     "execution_count": 18,
     "metadata": {},
     "output_type": "execute_result"
    }
   ],
   "source": [
    "#Dialation and erosion using Canny \n",
    "import cv2\n",
    "import numpy as np\n",
    "\n",
    "img=cv2.imread(\"C:/Users/HP/Desktop/a.webp\")\n",
    "kernel = np.ones((5,5),np.uint8)\n",
    "#Here we define Kernel , where we define a matrix of (5,5) of all values as 1 (np.one)\n",
    "#And parameter of type unsigned int of 8 bytes \n",
    "\n",
    "imgCanny = cv2.Canny(img,100,100)\n",
    "imgDia = cv2.dilate(imgCanny , kernel , iterations = 5)\n",
    "imgEro = cv2.erode(imgDia , kernel , iterations = 4)\n",
    "cv2.imshow(\"Canny Image\", imgCanny)\n",
    "cv2.imshow(\"Dialated Image\", imgDia)\n",
    "cv2.imshow(\"Erosion Image\", imgEro)\n",
    "cv2.waitKey(0)"
   ]
  },
  {
   "cell_type": "code",
   "execution_count": 19,
   "id": "f117de62",
   "metadata": {},
   "outputs": [
    {
     "name": "stdout",
     "output_type": "stream",
     "text": [
      "(340, 522, 3)\n"
     ]
    }
   ],
   "source": [
    "#Dimensions\n",
    "import cv2\n",
    "import numpy as np\n",
    "\n",
    "img=cv2.imread(\"C:/Users/HP/Desktop/a.webp\")\n",
    "print(img.shape)"
   ]
  },
  {
   "cell_type": "code",
   "execution_count": 24,
   "id": "59b276c6",
   "metadata": {},
   "outputs": [
    {
     "name": "stdout",
     "output_type": "stream",
     "text": [
      "(340, 522, 3)\n",
      "(200, 300, 3)\n"
     ]
    },
    {
     "data": {
      "text/plain": [
       "-1"
      ]
     },
     "execution_count": 24,
     "metadata": {},
     "output_type": "execute_result"
    }
   ],
   "source": [
    "#Resizing\n",
    "import cv2\n",
    "import numpy as np\n",
    "\n",
    "img=cv2.imread(\"C:/Users/HP/Desktop/a.webp\")\n",
    "print(img.shape)\n",
    "\n",
    "imgResize = cv2.resize(img,(300,200))\n",
    "print(imgResize.shape)\n",
    "\n",
    "cv2.imshow(\" Image\", img)\n",
    "cv2.imshow(\"Resized Image\", imgResize)\n",
    "cv2.waitKey(0)"
   ]
  },
  {
   "cell_type": "code",
   "execution_count": 25,
   "id": "0ec34fa6",
   "metadata": {},
   "outputs": [
    {
     "name": "stdout",
     "output_type": "stream",
     "text": [
      "(340, 522, 3)\n"
     ]
    },
    {
     "data": {
      "text/plain": [
       "-1"
      ]
     },
     "execution_count": 25,
     "metadata": {},
     "output_type": "execute_result"
    }
   ],
   "source": [
    "#Cropping\n",
    "\n",
    "import cv2\n",
    "import numpy as np\n",
    "\n",
    "img=cv2.imread(\"C:/Users/HP/Desktop/a.webp\")\n",
    "\n",
    "imgCrop = img[0:200,200:500]\n",
    "\n",
    "cv2.imshow(\" Image\", img)\n",
    "cv2.imshow(\"Cropped Image\", imgCrop)\n",
    "cv2.waitKey(0)"
   ]
  },
  {
   "cell_type": "code",
   "execution_count": null,
   "id": "40406b57",
   "metadata": {},
   "outputs": [],
   "source": [
    "import cv2\n",
    "import numpy as np\n",
    "\n",
    "img = np.zeros((512,512,3),np.uint8)\n",
    "print (img)\n",
    "img[:] = 255,255,255\n",
    "\n",
    "cv2.imshow(\" Image\", img)\n",
    "cv2.waitKey(0)"
   ]
  },
  {
   "cell_type": "code",
   "execution_count": 40,
   "id": "e2e6679c",
   "metadata": {},
   "outputs": [
    {
     "data": {
      "text/plain": [
       "-1"
      ]
     },
     "execution_count": 40,
     "metadata": {},
     "output_type": "execute_result"
    }
   ],
   "source": [
    "#Draw A Line\n",
    "import cv2\n",
    "import numpy as np\n",
    "\n",
    "img = np.zeros((512,512,3),np.uint8)\n",
    "cv2.line(img,(0,0),(300,300),(255,0,0),3)\n",
    "# (image_name ,  starting point , ending point ,color , Thickness)\n",
    "#cv2.line(img.shape[1],image.shape[0],(255,0,0),3)\n",
    "              # Widht , Height \n",
    "cv2.imshow(\"Image\", img)\n",
    "cv2.waitKey(0)"
   ]
  },
  {
   "cell_type": "code",
   "execution_count": 43,
   "id": "9c877d28",
   "metadata": {},
   "outputs": [
    {
     "data": {
      "text/plain": [
       "-1"
      ]
     },
     "execution_count": 43,
     "metadata": {},
     "output_type": "execute_result"
    }
   ],
   "source": [
    "#Draw A Rectangle\n",
    "import cv2\n",
    "import numpy as np\n",
    "\n",
    "img = np.zeros((512,512,3),np.uint8)\n",
    "cv2.rectangle(img,(0,0),(250,350),(255,0,0),cv2.FILLED)\n",
    "# (image_name ,  starting point , ending point ,color , Thickness/Filled shape)\n",
    "\n",
    "\n",
    "cv2.imshow(\"Image\", img)\n",
    "cv2.waitKey(0)"
   ]
  },
  {
   "cell_type": "code",
   "execution_count": 45,
   "id": "6c9eb743",
   "metadata": {},
   "outputs": [
    {
     "data": {
      "text/plain": [
       "-1"
      ]
     },
     "execution_count": 45,
     "metadata": {},
     "output_type": "execute_result"
    }
   ],
   "source": [
    "#Draw A Circles\n",
    "import cv2\n",
    "import numpy as np\n",
    "\n",
    "img = np.zeros((512,512,3),np.uint8)\n",
    "cv2.circle(img,(400,50),30,(255,0,255),cv2.FILLED)\n",
    "# (image_name , center ,radius ,color , Thickness/Filled shape)\n",
    "\n",
    "cv2.imshow(\"Image\", img)\n",
    "cv2.waitKey(0)"
   ]
  },
  {
   "cell_type": "code",
   "execution_count": 48,
   "id": "d4cf9eb1",
   "metadata": {},
   "outputs": [
    {
     "data": {
      "text/plain": [
       "-1"
      ]
     },
     "execution_count": 48,
     "metadata": {},
     "output_type": "execute_result"
    }
   ],
   "source": [
    "#Text on images\n",
    "import cv2\n",
    "import numpy as np\n",
    "\n",
    "img = np.zeros((512,512,3),np.uint8)\n",
    "cv2.putText(img,\" OpenCV \",(200,100),cv2.FONT_HERSHEY_COMPLEX,1,(0,100,0),1)\n",
    "# (image_name , Text ,starting point ,font, scale(Font_size), color , thickness(Boldness))\n",
    "\n",
    "cv2.imshow(\"Image\", img)\n",
    "cv2.waitKey(0)"
   ]
  },
  {
   "cell_type": "code",
   "execution_count": 49,
   "id": "e73363a9",
   "metadata": {},
   "outputs": [],
   "source": [
    "#Warp Percpective to get Birds eye view"
   ]
  },
  {
   "cell_type": "code",
   "execution_count": 52,
   "id": "2a87ada2",
   "metadata": {},
   "outputs": [
    {
     "data": {
      "text/plain": [
       "-1"
      ]
     },
     "execution_count": 52,
     "metadata": {},
     "output_type": "execute_result"
    }
   ],
   "source": [
    "#Joining of images\n",
    "import cv2\n",
    "import numpy as np\n",
    "\n",
    "img=cv2.imread(\"C:/Users/HP/Desktop/a.webp\")\n",
    "imgHor = np.hstack((img,img))\n",
    "imgVer = np.vstack((img,img))\n",
    "\n",
    "cv2.imshow(\"Horizontal\", imgHor)\n",
    "cv2.imshow(\"Vertical\", imgVer)\n",
    "cv2.waitKey(0)"
   ]
  },
  {
   "cell_type": "code",
   "execution_count": 56,
   "id": "40467f00",
   "metadata": {},
   "outputs": [
    {
     "data": {
      "text/plain": [
       "-1"
      ]
     },
     "execution_count": 56,
     "metadata": {},
     "output_type": "execute_result"
    }
   ],
   "source": [
    "#convert to Hue Saturated Value Image , Creating trackbars;\n",
    "import cv2\n",
    "\n",
    "img=cv2.imread(\"C:/Users/HP/Desktop/a.webp\")\n",
    "\n",
    "#Creating Trackbars for chaninging saturation value\n",
    "cv2.namedWindow(\"Trackbars\")\n",
    "cv2.resizeWindow(\"Trackbars\", 650,250)\n",
    "\n",
    "\n",
    "imgHSV = cv2.cvtColor(img , cv2.COLOR_BGR2HSV)\n",
    "\n",
    "cv2.imshow(\"Gray Image\", imgHSV)\n",
    "cv2.waitKey(0)"
   ]
  },
  {
   "cell_type": "code",
   "execution_count": null,
   "id": "f43dee3b",
   "metadata": {},
   "outputs": [],
   "source": []
  },
  {
   "cell_type": "code",
   "execution_count": null,
   "id": "5cbbc231",
   "metadata": {},
   "outputs": [],
   "source": []
  }
 ],
 "metadata": {
  "kernelspec": {
   "display_name": "Python 3",
   "language": "python",
   "name": "python3"
  },
  "language_info": {
   "codemirror_mode": {
    "name": "ipython",
    "version": 3
   },
   "file_extension": ".py",
   "mimetype": "text/x-python",
   "name": "python",
   "nbconvert_exporter": "python",
   "pygments_lexer": "ipython3",
   "version": "3.8.8"
  }
 },
 "nbformat": 4,
 "nbformat_minor": 5
}
